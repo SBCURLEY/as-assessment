{
 "cells": [
  {
   "cell_type": "markdown",
   "id": "b005a986",
   "metadata": {},
   "source": [
    "<div align=\"center\">\n",
    "\n",
    "# Higher Diploma in Science in Computing (Data Analytics)\n",
    "# Applied Statistics Module\n",
    "\n",
    "</div>"
   ]
  },
  {
   "cell_type": "markdown",
   "id": "7c7bcbdd",
   "metadata": {},
   "source": [
    "# Table of Contents\n",
    "***\n",
    "1. Description\n",
    "2. Explore the Problems \n",
    "    -   Problem 1: Extending the Lady Tasting Tea\n",
    "    -   Problem 2: Normal Distribution\n",
    "    -   Problem 3: t-Tests\n",
    "    -   Problem 4: ANOVA\n",
    "3. Conclusion"
   ]
  },
  {
   "cell_type": "markdown",
   "id": "aee82937",
   "metadata": {},
   "source": [
    "# 1. Description\n",
    "***\n",
    "The following notebook will outline all the Problems 1-4 for the Applied Statistics Module."
   ]
  },
  {
   "cell_type": "markdown",
   "id": "88b25171",
   "metadata": {},
   "source": [
    "# 2. Explore the Problems\n",
    "***"
   ]
  },
  {
   "cell_type": "markdown",
   "id": "5acb065a",
   "metadata": {},
   "source": [
    "## Problem 1: Extending the Lady Tasting Tea"
   ]
  },
  {
   "cell_type": "markdown",
   "id": "faa81781",
   "metadata": {},
   "source": [
    "Let's extend the Lady Tasting Tea experiment as follows.\n",
    "The original experiment has 8 cups: 4 tea-first and 4 milk-first.\n",
    "Suppose we prepare 12 cups: 8 tea-first and 4 milk-first.\n",
    "A participant claims they can tell which was poured first.  \n",
    "\n",
    "Simulate this experiment using `numpy` by randomly shuffling the cups many times and calculating the probability of the participant correctly identifying all cups by chance.\n",
    "Compare your result with the original 8-cup experiment.  \n",
    "\n",
    "In your notebook, explain your simulation process clearly, report and interpret the estimated probability, and discuss whether, based on this probability, you would consider extending or relaxing the p-value threshold compared to the original design.  \n",
    "\n",
    "- [Wikipedia: Lady Tasting Tea](https://en.wikipedia.org/wiki/Lady_tasting_tea)\n",
    "- [Wikipedia: Null Hypothesis](https://en.wikipedia.org/wiki/Null_hypothesis)\n",
    "- [Wikipedia: Exact Test](https://en.wikipedia.org/wiki/Fisher%27s_exact_test)\n",
    "- [Statistics Easily: Lady Tasting Test](https://statisticseasily.com/lady-tasting-tea)\n",
    "- [Statistics Easily: p-value](https://statisticseasily.com/2022/04/24/p-value/)\n",
    "\n",
    "\n",
    "\n",
    "\n",
    "\n",
    "\n"
   ]
  },
  {
   "cell_type": "markdown",
   "id": "a78e029f",
   "metadata": {},
   "source": [
    "## Problem 2: Normal Distribution"
   ]
  },
  {
   "cell_type": "markdown",
   "id": "1c319ce9",
   "metadata": {},
   "source": [
    "Generate 100,000 samples of size 10 from the standard normal distribution.\n",
    "For each sample, compute the standard deviation with `ddof=1` (sample SD) and with `ddof=0` (population SD).\n",
    "Plot histograms of both sets of values on the same axes with transparency.\n",
    "Describe the differences you see.\n",
    "Explain how you expect these differences to change if the sample size is increased.\n"
   ]
  },
  {
   "cell_type": "markdown",
   "id": "19197804",
   "metadata": {},
   "source": [
    "## Problem 3: t-Tests"
   ]
  },
  {
   "cell_type": "markdown",
   "id": "0f1f5ee0",
   "metadata": {},
   "source": [
    "A type II error occurs when a test fails to reject the null hypothesis even though it is false.\n",
    "For each mean difference $d = 0, 0.1, 0.2, \\dots, 1.0$, repeat the following simulation 1,000 times:\n",
    "\n",
    "1. Draw two samples of size 100, one from the standard normal distribution and one from the normal distribution with mean $d$ and standard deviation 1.\n",
    "2. Run an independent samples t-test on the two samples, rejecting the null hypothesis if the p-value is less than 0.05.\n",
    "3. Record the proportion of times the null hypothesis is not rejected.\n",
    "\n",
    "Plot this proportion against $d$, and explain how the type II error rate changes as the difference in means increases.\n"
   ]
  },
  {
   "cell_type": "markdown",
   "id": "bd7abdae",
   "metadata": {},
   "source": [
    "## Problem 4: ANOVA"
   ]
  },
  {
   "cell_type": "markdown",
   "id": "e91816cc",
   "metadata": {},
   "source": [
    "Generate three independent samples, each of size 30, from normal distributions with means 0, 0.5, and 1, each with standard deviation 1.\n",
    "\n",
    "1. Perform a one-way ANOVA to test whether all three means are equal.\n",
    "2. Perform three independent two-sample t-tests: samples 1 vs 2, 1 vs 3, and 2 vs 3.\n",
    "3. Compare the conclusions.\n",
    "\n",
    "Write a short note on why ANOVA is preferred over running several t-tests."
   ]
  },
  {
   "cell_type": "markdown",
   "id": "e13f90ba",
   "metadata": {},
   "source": []
  }
 ],
 "metadata": {
  "kernelspec": {
   "display_name": "Python 3",
   "language": "python",
   "name": "python3"
  },
  "language_info": {
   "codemirror_mode": {
    "name": "ipython",
    "version": 3
   },
   "file_extension": ".py",
   "mimetype": "text/x-python",
   "name": "python",
   "nbconvert_exporter": "python",
   "pygments_lexer": "ipython3",
   "version": "3.12.1"
  }
 },
 "nbformat": 4,
 "nbformat_minor": 5
}
